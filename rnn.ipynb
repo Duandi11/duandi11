{
  "nbformat": 4,
  "nbformat_minor": 0,
  "metadata": {
    "colab": {
      "name": "rnn.ipynb",
      "provenance": [],
      "collapsed_sections": [],
      "authorship_tag": "ABX9TyPGPi4gjdqYPUDzNvkrj0eJ",
      "include_colab_link": true
    },
    "kernelspec": {
      "name": "python3",
      "display_name": "Python 3"
    },
    "language_info": {
      "name": "python"
    }
  },
  "cells": [
    {
      "cell_type": "markdown",
      "metadata": {
        "id": "view-in-github",
        "colab_type": "text"
      },
      "source": [
        "<a href=\"https://colab.research.google.com/github/Duandi11/duandi11/blob/master/rnn.ipynb\" target=\"_parent\"><img src=\"https://colab.research.google.com/assets/colab-badge.svg\" alt=\"Open In Colab\"/></a>"
      ]
    },
    {
      "cell_type": "code",
      "source": [
        "!pip install git+https://github.com/d2l-ai/d2l-zh@release  # installing d2l"
      ],
      "metadata": {
        "id": "Mn22BrDsqPOn"
      },
      "execution_count": null,
      "outputs": []
    },
    {
      "cell_type": "code",
      "execution_count": 4,
      "metadata": {
        "id": "i6Nyy6RBnz-1"
      },
      "outputs": [],
      "source": [
        "%matplotlib inline\n",
        "import math\n",
        "import torch\n",
        "import torch.nn as nn\n",
        "import torch.nn.functional as F\n",
        "from d2l import torch as d2l"
      ]
    },
    {
      "cell_type": "code",
      "source": [
        ""
      ],
      "metadata": {
        "id": "SeX_IVBHn6DZ"
      },
      "execution_count": 35,
      "outputs": []
    },
    {
      "cell_type": "code",
      "source": [
        "batch_size, num_steps = 32,25\n",
        "train_iter, vocab = d2l.load_data_time_machine(batch_size,num_steps)\n"
      ],
      "metadata": {
        "id": "wJybI-ASq2Da"
      },
      "execution_count": 36,
      "outputs": []
    },
    {
      "cell_type": "code",
      "source": [
        ""
      ],
      "metadata": {
        "id": "fIzjB5t1q3tl"
      },
      "execution_count": 35,
      "outputs": []
    },
    {
      "cell_type": "code",
      "source": [
        "X = torch.arange(10).reshape((2,5))"
      ],
      "metadata": {
        "id": "MI1IJwqW578y"
      },
      "execution_count": 37,
      "outputs": []
    },
    {
      "cell_type": "code",
      "source": [
        "def get_params(vocab_size,num_hiddens,device):\n",
        "    num_inputs = num_outputs = vocab_size\n",
        "    \n",
        "    def normal(shape):\n",
        "        return torch.randn(size=shape,device=device) * 0.01\n",
        "    W_xh = normal((num_inputs,num_hiddens))\n",
        "    W_hh = normal((num_hiddens,num_hiddens))\n",
        "    b_h = torch.zeros(num_hiddens,device=device)\n",
        "    W_hq = normal((num_hiddens,num_outputs))\n",
        "    b_q = torch.zeros(num_outputs,device=device)\n",
        "    \n",
        "    params = [W_xh,W_hh,b_h,W_hq,b_q]\n",
        "\n",
        "    for param in params:\n",
        "        param.requires_grad_(True)\n",
        "    return params\n",
        "\n",
        "\n",
        "def init_rnn_state(batch_size,num_hiddens,device):\n",
        "    return (torch.zeros((batch_size,num_hiddens),device=device),)\n",
        "\n",
        "\n",
        "def rnn(inputs,state,params):\n",
        "    W_xh,W_hh,b_h,W_hq,b_q = params\n",
        "    H, = state\n",
        "    outputs = []\n",
        "\n",
        "    for x in inputs:\n",
        "        H = torch.tanh(torch.mm(x,W_xh)+torch.mm(H,W_hh)+b_h)\n",
        "        Y = torch.mm(H,W_hq)+b_q\n",
        "        outputs.append(Y)\n",
        "\n",
        "    return torch.cat(outputs,dim=0),(H,)"
      ],
      "metadata": {
        "id": "Jnhc7bqWrhFS"
      },
      "execution_count": 41,
      "outputs": []
    },
    {
      "cell_type": "code",
      "source": [
        "class RNNModelScrath:\n",
        "    def __init__(self,vocab_size,num_hiddens,device,\n",
        "                 get_params,init_rnn_state,forward_fn):\n",
        "        self.vocab_size = vocab_size\n",
        "        self.num_hiddens = num_hiddens\n",
        "        self.params = get_params(vocab_size,num_hiddens,device)\n",
        "        self.init_state = init_rnn_state\n",
        "        self.forward_fn = forward_fn\n",
        "\n",
        "    def __call__(self,X,state):\n",
        "        X = F.one_hot(X.T,self.vocab_size).type(torch.float32)\n",
        "        return self.forward_fn(X,state,self.params)\n",
        "\n",
        "    def begin_state(self,batch_size,device):\n",
        "        return self.init_state(batch_size,self.num_hiddens,device)\n",
        "\n"
      ],
      "metadata": {
        "id": "hVbYRsjJ2eoW"
      },
      "execution_count": 39,
      "outputs": []
    },
    {
      "cell_type": "code",
      "source": [
        "num_hiddens = 512\n",
        "net = RNNModelScrath(len(vocab),num_hiddens=num_hiddens,device='cpu',\n",
        "                     get_params=get_params,init_rnn_state=init_rnn_state,forward_fn=rnn)\n",
        "state = net.begin_state(X.shape[0],'cpu')\n",
        "Y,new_state = net(X.to('cpu'),state)\n",
        "Y.shape,len(new_state),new_state[0].shape"
      ],
      "metadata": {
        "colab": {
          "base_uri": "https://localhost:8080/"
        },
        "id": "Ib4TyDTv3p0d",
        "outputId": "27cd743a-d75d-4db6-b588-addaa4f91381"
      },
      "execution_count": 42,
      "outputs": [
        {
          "output_type": "execute_result",
          "data": {
            "text/plain": [
              "(torch.Size([10, 27]), 1, torch.Size([2, 512]))"
            ]
          },
          "metadata": {},
          "execution_count": 42
        }
      ]
    }
  ]
}